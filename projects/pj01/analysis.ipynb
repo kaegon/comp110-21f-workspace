{
 "cells": [
  {
   "cell_type": "markdown",
   "metadata": {},
   "source": [
    "# Hypothesis: \n",
    "## I think that the majority of the first year students in this class have a primary major of computer science!"
   ]
  },
  {
   "cell_type": "markdown",
   "metadata": {},
   "source": [
    "Before starting, I will ensure that the data is autoreloded if any changes are made. "
   ]
  },
  {
   "cell_type": "code",
   "execution_count": 1,
   "metadata": {},
   "outputs": [],
   "source": [
    "%reload_ext autoreload\n",
    "%autoreload 2"
   ]
  },
  {
   "cell_type": "markdown",
   "metadata": {},
   "source": [
    "## Reading and Selcting Data \n",
    "I will start by reading the CSV data. "
   ]
  },
  {
   "cell_type": "code",
   "execution_count": 2,
   "metadata": {},
   "outputs": [],
   "source": [
    "from data_utils import read_csv_rows\n",
    "\n",
    "data_rows: list[dict[str, str]] = read_csv_rows('../../data/survey.csv')\n"
   ]
  },
  {
   "cell_type": "markdown",
   "metadata": {},
   "source": [
    "Now I will select all of the rows that correspond to first-year students."
   ]
  },
  {
   "cell_type": "code",
   "execution_count": 3,
   "metadata": {},
   "outputs": [],
   "source": [
    "from data_utils import row_filter\n",
    "\n",
    "first_years: list[dict[str, str]] = row_filter(data_rows, \"Incoming First-year Student\")\n"
   ]
  },
  {
   "cell_type": "markdown",
   "metadata": {},
   "source": [
    "I will now use the `columnar` funtion to convert the rows previously selected to column based data.  "
   ]
  },
  {
   "cell_type": "code",
   "execution_count": 4,
   "metadata": {},
   "outputs": [],
   "source": [
    "from data_utils import columnar\n",
    "\n",
    "columns: dict[str, list[str]] = columnar(first_years)\n"
   ]
  },
  {
   "cell_type": "markdown",
   "metadata": {},
   "source": [
    "I will now select only the `unc_status` and `primary_major` columns. \n",
    "Displayed are the first 10 rows using the tabulate function."
   ]
  },
  {
   "cell_type": "code",
   "execution_count": 5,
   "metadata": {},
   "outputs": [
    {
     "data": {
      "text/html": [
       "<table>\n",
       "<thead>\n",
       "<tr><th>primary_major   </th></tr>\n",
       "</thead>\n",
       "<tbody>\n",
       "<tr><td>Biostatistics   </td></tr>\n",
       "<tr><td>Biostatistics   </td></tr>\n",
       "<tr><td>Biostatistics   </td></tr>\n",
       "<tr><td>Business        </td></tr>\n",
       "<tr><td>Business        </td></tr>\n",
       "<tr><td>Business        </td></tr>\n",
       "<tr><td>Business        </td></tr>\n",
       "<tr><td>Computer Science</td></tr>\n",
       "<tr><td>Computer Science</td></tr>\n",
       "<tr><td>Computer Science</td></tr>\n",
       "</tbody>\n",
       "</table>"
      ],
      "text/plain": [
       "'<table>\\n<thead>\\n<tr><th>primary_major   </th></tr>\\n</thead>\\n<tbody>\\n<tr><td>Biostatistics   </td></tr>\\n<tr><td>Biostatistics   </td></tr>\\n<tr><td>Biostatistics   </td></tr>\\n<tr><td>Business        </td></tr>\\n<tr><td>Business        </td></tr>\\n<tr><td>Business        </td></tr>\\n<tr><td>Business        </td></tr>\\n<tr><td>Computer Science</td></tr>\\n<tr><td>Computer Science</td></tr>\\n<tr><td>Computer Science</td></tr>\\n</tbody>\\n</table>'"
      ]
     },
     "execution_count": 5,
     "metadata": {},
     "output_type": "execute_result"
    }
   ],
   "source": [
    "from data_utils import select, head \n",
    "from tabulate import tabulate\n",
    "\n",
    "selected_data: dict[str, list[str]] = select(columns, \"primary_major\")\n",
    "\n",
    "tabulate(head(selected_data, 10), selected_data.keys() , \"html\")"
   ]
  },
  {
   "cell_type": "markdown",
   "metadata": {},
   "source": [
    "## Counting Up Totals \n",
    "I will now total up how many of each major are in the class."
   ]
  },
  {
   "cell_type": "code",
   "execution_count": 6,
   "metadata": {},
   "outputs": [
    {
     "data": {
      "text/plain": [
       "{'Biostatistics': 2,\n",
       " 'Biostatistics ': 1,\n",
       " 'Business': 4,\n",
       " 'Computer Science': 67,\n",
       " 'Economics': 3,\n",
       " 'Information Science': 2,\n",
       " 'Math ': 2,\n",
       " 'Neuroscience': 1,\n",
       " 'Neuroscience ': 1,\n",
       " 'Physics': 1,\n",
       " 'Psychology': 2,\n",
       " 'Public Health': 2,\n",
       " 'Statistics': 1,\n",
       " 'Statistics ': 1,\n",
       " 'Undecided': 1}"
      ]
     },
     "execution_count": 6,
     "metadata": {},
     "output_type": "execute_result"
    }
   ],
   "source": [
    "from data_utils import count\n",
    "\n",
    "counts: dict[str, int] = count(selected_data[\"primary_major\"])\n",
    "counts"
   ]
  },
  {
   "cell_type": "markdown",
   "metadata": {},
   "source": [
    "NOTE: The reason that there seems to be duplicate keys in the above is due to some peoples responses containing a space after their major and some not. In order to fix this for the visual I will manually correct the counts. "
   ]
  },
  {
   "cell_type": "code",
   "execution_count": 7,
   "metadata": {},
   "outputs": [
    {
     "data": {
      "text/plain": [
       "{'Biostatistics': 3,\n",
       " 'Business': 4,\n",
       " 'Computer Science': 67,\n",
       " 'Economics': 3,\n",
       " 'Information Science': 2,\n",
       " 'Math ': 2,\n",
       " 'Neuroscience': 2,\n",
       " 'Physics': 1,\n",
       " 'Psychology': 2,\n",
       " 'Public Health': 2,\n",
       " 'Statistics': 2,\n",
       " 'Undecided': 1}"
      ]
     },
     "execution_count": 7,
     "metadata": {},
     "output_type": "execute_result"
    }
   ],
   "source": [
    "counts[\"Biostatistics\"] = 3\n",
    "counts.pop(\"Biostatistics \")\n",
    "counts[\"Neuroscience\"] = 2\n",
    "counts.pop(\"Neuroscience \")\n",
    "counts[\"Statistics\"] = 2\n",
    "counts.pop(\"Statistics \")\n",
    "counts"
   ]
  },
  {
   "cell_type": "markdown",
   "metadata": {},
   "source": [
    "Before making the plot we must first turn the counts into parameters that seaborn barplots can read."
   ]
  },
  {
   "cell_type": "code",
   "execution_count": 8,
   "metadata": {},
   "outputs": [],
   "source": [
    "\n",
    "majors: list[str] = []\n",
    "vals: list[int] = []\n",
    "for x in counts:\n",
    "    majors.append(x)\n",
    "    vals.append(counts[x])\n",
    "result: dict[list[str]] = {\"Primary Major\":[], \"Number of 1st Year Students\": []}\n",
    "result[\"Primary Major\"] = majors\n",
    "result[\"Number of 1st Year Students\"] = vals"
   ]
  },
  {
   "cell_type": "markdown",
   "metadata": {},
   "source": [
    "## Plotting Data \n",
    "Now that we have all the data cleaned up due to unforseen human errors I will creat a plot of this data for easier visualization. "
   ]
  },
  {
   "cell_type": "code",
   "execution_count": 9,
   "metadata": {},
   "outputs": [
    {
     "data": {
      "text/plain": [
       "<AxesSubplot:>"
      ]
     },
     "execution_count": 9,
     "metadata": {},
     "output_type": "execute_result"
    },
    {
     "data": {
      "image/png": "[encoded data removed]",
      "text/plain": [
       "<Figure size 432x288 with 1 Axes>"
      ]
     },
     "metadata": {
      "needs_background": "light"
     },
     "output_type": "display_data"
    }
   ],
   "source": [
    "\n",
    "import seaborn\n",
    "seaborn.barplot(x=\"Number of 1st Year Students\", y=\"Primary Major\", data=result)\n"
   ]
  },
  {
   "cell_type": "markdown",
   "metadata": {},
   "source": [
    "# Conclusion\n",
    "As hypothesized, the majority of first-year students in this class ARE majoring in computer science! We can see this throught the counts, however plotting the data in a bar graph makes the results glaringly obvious. This is likely becuase computer science majors will start their undergrad career with this class. Non-Comp Sci majors, on the other hand, are less likely to start with COMP 110 their first semester. "
   ]
  }
 ],
 "metadata": {
  "interpreter": {
   "hash": "aee8b7b246df8f9039afb4144a1f6fd8d2ca17a180786b69acc140d282b71a49"
  },
  "kernelspec": {
   "display_name": "Python 3.9.6 64-bit",
   "name": "python3"
  },
  "language_info": {
   "codemirror_mode": {
    "name": "ipython",
    "version": 3
   },
   "file_extension": ".py",
   "mimetype": "text/x-python",
   "name": "python",
   "nbconvert_exporter": "python",
   "pygments_lexer": "ipython3",
   "version": "3.9.6"
  },
  "orig_nbformat": 4
 },
 "nbformat": 4,
 "nbformat_minor": 2
}
